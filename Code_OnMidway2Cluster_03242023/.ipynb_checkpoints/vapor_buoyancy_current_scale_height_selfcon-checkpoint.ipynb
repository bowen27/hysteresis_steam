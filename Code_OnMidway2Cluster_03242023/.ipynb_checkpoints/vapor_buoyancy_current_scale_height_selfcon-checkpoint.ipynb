{
 "cells": [
  {
   "cell_type": "code",
   "execution_count": 19,
   "metadata": {},
   "outputs": [],
   "source": [
    "from scipy.optimize import fsolve\n",
    "import math \n",
    "import numpy as np\n",
    "\n",
    "\n",
    "def universal_func(So=2000, Fo=0, mm_dry = 0.028):\n",
    "    def equations(p): \n",
    "        T1, T2, T3, T4, Fa, Fc = p \n",
    "\n",
    "        ### Constants\n",
    "        Pc = 6e4\n",
    "        Po = 1.01e5\n",
    "        es0 = 611.2\n",
    "        R_star = 8.3145\n",
    "        M = 0.018\n",
    "        To = 273.15\n",
    "        mass_ratio = M/mm_dry\n",
    "\n",
    "        sigma = 5.67e-8 #W /m^2 K^4  Stefan Boltzmann Constant\n",
    "        \n",
    "        Tc = 230 #Cloud emission temp\n",
    "        Z_a = 2603.87 #convection height\n",
    "        Cp = 1005.7 #J/kgK #heat capacity\n",
    "        L = 2.501e6 # J/kg #latent heat of vaporization\n",
    "        g = 13.7 #m/s^2\n",
    "\n",
    "        es_1 = es0*pow(np.e, L/(R_star/M)*(1/To - 1/T1))\n",
    "        w_1 = mass_ratio*es_1/(Po - es_1) #saturated mixing ratio\n",
    "        q1_s = w_1/(1+w_1)\n",
    "\n",
    "        es_2 = es0*pow(np.e, L/(R_star/M)*(1/To - 1/T2))\n",
    "        w_2 = mass_ratio*es_2/(Pc - es_2) #saturated mixing ratio\n",
    "        q2_s = w_2/(1+w_2)\n",
    "\n",
    "        RH_1 = 0.9 #Relative Humidity\n",
    "        RH_2 = 0.8 \n",
    "        RH_3 = 0.3\n",
    "        q1 = RH_1 * q1_s\n",
    "        q2 = RH_2 * q2_s #specific humidity\n",
    "        q3 = RH_3 * q2_s #specific humidity\n",
    "\n",
    "        #So = 2000 # W/m^2 Solar insolation\n",
    "        #Fo' = 0 # Ocean heat transport\n",
    "\n",
    "        #fc = 1.0 # cloud fraction\n",
    "        \n",
    "        k1 = 0.2 # Fraction of heat transport to the nightside deposited in the boundary layer\n",
    "        k2 = 1000 # Relates water vapor to the infrared opacity \n",
    "        k3 = 0.08 # relates the strength of convection to the cloud fraction\n",
    "        Fd = k1*Fa\n",
    "\n",
    "        fc = k3*np.log(Fc+1.0)\n",
    "        alpha_p = 0.09+fc - 0.09*fc # planetary albedo\n",
    "\n",
    "        epsilon_2 = 1 - np.exp(-k2*q2) #emissivity\n",
    "        epsilon_3 = 1 - np.exp(-k2*q3)\n",
    "\n",
    "        Eq2 = (1/2)*So*(1-alpha_p)-Fc - Fo + (1-fc)*epsilon_2*sigma*T2**4 + fc*sigma*Tc**4 - sigma*T1**4\n",
    "\n",
    "        Eq3 = Fc - Fa + (1-fc)*epsilon_2*sigma*T1**4 + fc*sigma*T1**4 - 2*(1-fc)*epsilon_2*sigma*T2**4 - 2*fc*sigma*Tc**4\n",
    "\n",
    "        Eq4 = Fa - Fd + epsilon_3*sigma*T4**4 - 2*epsilon_3*sigma*T3**4\n",
    "\n",
    "        Eq5 = Fo + Fd + epsilon_3*sigma*T3**4 - sigma*T4**4\n",
    "\n",
    "        Eq6 = T2 - T3\n",
    "\n",
    "        Eq7 = Cp*T1 + L*q1_s - (Cp*T2+L*q2_s + g*Z_a)\n",
    "\n",
    "        if index==0:\n",
    "            return (Eq2, Eq3, Eq4, Eq5, Eq6, Eq7)\n",
    "        if index==1:\n",
    "            return(q1,q2,q3,alpha_p,epsilon_2,epsilon_3)\n",
    "        \"\"\"\n",
    "        # Old version, to be deleted\n",
    "        def Eq2(So,alpha_p,Fc,Fo,epsilon_2,sigma,fc,Tc):     \n",
    "            return (1/2)*So*(1-alpha_p)-Fc - Fo + (1-fc)*epsilon_2*sigma*T2**4 + fc*sigma*Tc**4 - sigma*T1**4\n",
    "\n",
    "        def Eq3(Fc,Fa,epsilon_2,sigma,T1,T2,Tc):\n",
    "            return Fc - Fa + (1-fc)*epsilon_2*sigma*T1**4 + fc*sigma*T1**4 - 2*(1-fc)*epsilon_2*sigma*T2**4 - 2*fc*sigma*Tc**4\n",
    "\n",
    "        def Eq4(Fa,Fd,T3,sigma,T4): \n",
    "            return Fa - Fd + epsilon_3*sigma*T4**4 - 2*epsilon_3*sigma*T3**4\n",
    "\n",
    "        def Eq5(Fo,Fd,epsilon_3,sigma, T3, T4):  \n",
    "            return Fo + Fd + epsilon_3*sigma*T3**4 - sigma*T4**4\n",
    "\n",
    "        def Eq6(T2,T3): \n",
    "            return T2 - T3\n",
    "\n",
    "        def Eq7(T1, T2):\n",
    "            return Cp*T1 + L*q1_s - (Cp*T2+L*q2_s + g*Z_a)\n",
    "\n",
    "        return (Eq2(So,alpha_p,Fc,Fo,epsilon_2,sigma,fc,Tc), Eq3(Fc,Fa,epsilon_2,sigma,T1,T2,Tc), \n",
    "                Eq4(Fa,Fd,T3,sigma,T4), Eq5(Fo,Fd,epsilon_3,sigma, T3, T4),\n",
    "                Eq6(T2,T3), Eq7(T1,T2))\n",
    "        \"\"\"\n",
    "    index=0\n",
    "    T1, T2, T3, T4, Fa, Fc = fsolve(equations, (250,250,200,200,200,20))        \n",
    "    fc_2 = 0.08*np.log(Fc+1)\n",
    "    index=1\n",
    "    q1,q2,q3,alpha_p,epsilon_2,epsilon_3 = equations((T1, T2, T3, T4, Fa, Fc))   \n",
    "    return (T1, T2, T3, T4, Fa, Fc, fc_2,\n",
    "            q1,q2,q3,alpha_p,epsilon_2,epsilon_3)"
   ]
  },
  {
   "cell_type": "code",
   "execution_count": 20,
   "metadata": {},
   "outputs": [],
   "source": [
    "so = np.linspace(1000,2500,100)\n",
    "nele = len(so)\n",
    "T1_arr, T2_arr, T3_arr, T4_arr, Fa_arr, Fc_arr, fc_arr = np.zeros(nele), np.zeros(nele), np.zeros(nele), np.zeros(nele), np.zeros(nele), np.zeros(nele), np.zeros(nele)\n",
    "q1_arr,q2_arr,q3_arr,alpha_p_arr,epsilon_2_arr,epsilon_3_arr = np.zeros(nele), np.zeros(nele), np.zeros(nele), np.zeros(nele), np.zeros(nele), np.zeros(nele)\n",
    "\n",
    "for idx,s in enumerate(so):\n",
    "    T1_arr[idx], T2_arr[idx], T3_arr[idx], T4_arr[idx], Fa_arr[idx], Fc_arr[idx], fc_arr[idx], \\\n",
    "    q1_arr[idx],q2_arr[idx],q3_arr[idx],alpha_p_arr[idx],epsilon_2_arr[idx],epsilon_3_arr[idx] = universal_func(So = s)"
   ]
  },
  {
   "cell_type": "code",
   "execution_count": 21,
   "metadata": {},
   "outputs": [
    {
     "data": {
      "text/plain": [
       "(270.85476948066764,\n",
       " 242.27553146432578,\n",
       " 242.27553146432578,\n",
       " 164.10535889907638,\n",
       " 63.55280027428274,\n",
       " 86.71681788510833,\n",
       " 0.35792909176577165,\n",
       " 0.0029652652853485685,\n",
       " 0.00041910353525691235,\n",
       " 0.00015716382572134212,\n",
       " 0.41571547350685223,\n",
       " 0.3423638967799878,\n",
       " 0.1454359522222668)"
      ]
     },
     "execution_count": 21,
     "metadata": {},
     "output_type": "execute_result"
    }
   ],
   "source": [
    "universal_func(So = 1000)"
   ]
  },
  {
   "cell_type": "code",
   "execution_count": 22,
   "metadata": {},
   "outputs": [
    {
     "data": {
      "image/png": "[encoded data removed]",
      "text/plain": [
       "<Figure size 432x288 with 4 Axes>"
      ]
     },
     "metadata": {
      "needs_background": "light"
     },
     "output_type": "display_data"
    }
   ],
   "source": [
    "import matplotlib.pyplot as plt\n",
    "full_arr = [T1_arr, T2_arr, T3_arr, T4_arr]\n",
    "for idx, arr in enumerate(full_arr):\n",
    "    plt.subplot(2,2,idx+1)\n",
    "    plt.scatter(so, arr)\n",
    "    plt.xlim(1000,2400)\n",
    "    plt.ylim(160,320)"
   ]
  },
  {
   "cell_type": "code",
   "execution_count": 23,
   "metadata": {},
   "outputs": [
    {
     "name": "stdout",
     "output_type": "stream",
     "text": [
      "2603.879773095794\n"
     ]
    }
   ],
   "source": [
    "import numpy as np\n",
    "\n",
    "po = 1010\n",
    "p = 600 \n",
    "h = 5000\n",
    "\n",
    "z = np.log(po/p)*h\n",
    "print(z)"
   ]
  },
  {
   "cell_type": "code",
   "execution_count": 24,
   "metadata": {},
   "outputs": [
    {
     "data": {
      "image/png": "[encoded data removed]",
      "text/plain": [
       "<Figure size 432x288 with 1 Axes>"
      ]
     },
     "metadata": {
      "needs_background": "light"
     },
     "output_type": "display_data"
    }
   ],
   "source": [
    "import matplotlib.pyplot as plt\n",
    "full_arr = [Fa_arr]\n",
    "for idx, arr in enumerate(full_arr):\n",
    "    plt.subplot(1,1,idx+1)\n",
    "    plt.scatter(so, arr)\n",
    "    plt.xlim(1000,2400)\n",
    "    plt.ylim(50,350)"
   ]
  },
  {
   "cell_type": "code",
   "execution_count": null,
   "metadata": {},
   "outputs": [],
   "source": []
  }
 ],
 "metadata": {
  "kernelspec": {
   "display_name": "Python 3",
   "language": "python",
   "name": "python3"
  },
  "language_info": {
   "codemirror_mode": {
    "name": "ipython",
    "version": 3
   },
   "file_extension": ".py",
   "mimetype": "text/x-python",
   "name": "python",
   "nbconvert_exporter": "python",
   "pygments_lexer": "ipython3",
   "version": "3.7.6"
  }
 },
 "nbformat": 4,
 "nbformat_minor": 4
}
