{
 "cells": [
  {
   "cell_type": "code",
   "execution_count": 12,
   "metadata": {},
   "outputs": [
    {
     "ename": "SyntaxError",
     "evalue": "duplicate argument 'fc' in function definition (<ipython-input-12-d675bfc36689>, line 60)",
     "output_type": "error",
     "traceback": [
      "\u001b[0;36m  File \u001b[0;32m\"<ipython-input-12-d675bfc36689>\"\u001b[0;36m, line \u001b[0;32m60\u001b[0m\n\u001b[0;31m    def Eq3(Fc,Fa,epsilon_2,sigma,T1,T2,Tc):\u001b[0m\n\u001b[0m           ^\u001b[0m\n\u001b[0;31mSyntaxError\u001b[0m\u001b[0;31m:\u001b[0m duplicate argument 'fc' in function definition\n"
     ]
    }
   ],
   "source": [
    "from scipy.optimize import fsolve\n",
    "import math \n",
    "import numpy as np\n",
    "\n",
    "\n",
    "def equations(p): \n",
    "    T1, T2, T3, T4, Fa, Fc = p \n",
    "    \n",
    "    ### Constants\n",
    "    Pc = 6e4\n",
    "    Po = 1.01e5\n",
    "    es0 = 611.2\n",
    "    R_star = 8.3145\n",
    "    M = 0.018\n",
    "    To = 273.15\n",
    "    \n",
    "    sigma = 5.67e-8 #W /m^2 K^4  Stefan Boltzmann Constant\n",
    "    \n",
    "    T_c = 230 #Cloud emission temp\n",
    "    Z_a = 2603.8 # convection height\n",
    "    Cp = 1005.7 #J/kgK #heat capacity\n",
    "    L = 2.501e6 # J/kg #latent heat of vaporization\n",
    "    g = 13.7 #m/s^2\n",
    "    Fd = k1*Fa\n",
    "    \n",
    "    es_1 = es0*pow(np.e, L/(R_star/M)*(1/To - 1/T1))\n",
    "    w_1 = mass_ratio*es_1/(Po - es_1) #saturated mixing ratio\n",
    "    q1_s = w_1/(1+w_1) \n",
    "    \n",
    "    es_2 = es0*pow(np.e, L/(R_star/M)*(1/To - 1/T2))\n",
    "    w_2 = mass_ratio*es_2/(Pc - es_2) #saturated mixing ratio\n",
    "    q2_s = w_2/(1+w_2)\n",
    "    \n",
    "    \n",
    "    RH_1 = 0.9 #Relative Humidity\n",
    "    RH_2 = 0.8\n",
    "    RH_3 = 0.3\n",
    "    q1 = RH_1 * q1_s\n",
    "    q2 = RH_2 * q2_s #specific humidity\n",
    "    q3 = RH_3 * q2_s #specific humidity\n",
    "    \n",
    "    So = 1500 # W/m^2 Solar insolation\n",
    "    Fo = 0 # Ocean heat transport\n",
    "    \n",
    "    fc = 1.0 # cloud fraction\n",
    "    alpha_p = 0.09+f_c - 0.09*f_c # planetary albedo\n",
    "    \n",
    "    k1 = 0.2 # Fraction of heat transport to the nightside deposited in the boundary layer\n",
    "    k2 = 1000 # Relates water vapor to the infrared opacity \n",
    "    k3 = 0.08 # relates the strength of convection to the cloud fraction\n",
    "    \n",
    "    epsilon_2 = 1 - np.exp(-k2*q2) #emissivity\n",
    "    epsilon_3 = 1 - np.exp(-k2*q3)\n",
    "    \n",
    "\n",
    "    \n",
    "    def Eq2(So,alpha_p,Fc,Fo,fc,epsilon_2,sigma,fc,Tc): \n",
    "        return (1/2)*So*(1-alpha_p)-Fc - Fo + (1-fc)*epsilon_2*sigma*T2**4 + fc*sigma*Tc**4 - sigma*T1**4\n",
    "    \n",
    "    def Eq3(Fc,Fa,epsilon_2,sigma,T1,T2,Tc):\n",
    "        return Fc - Fa + (1-fc)*epsilon_2*sigma*T1**4 + fc*sigma*T1**4 - 2*(1-fc)*epsilon_2*sigma*T2**4 - 2*fc*sigma*Tc**4\n",
    "    \n",
    "    def Eq4(Fa,Fd,epsilon_3,T3,sigma,T4): \n",
    "        return Fa - Fd + epsilon_3*sigma*T4**4 - 2*epsilon_3*sigma*T3**4\n",
    "    \n",
    "    def Eq5(Fo,Fd,epsilon_3,sigma, T3, T4):  \n",
    "        return Fo + Fd + epsilon_3*sigma*T3**4 - sigma*T4**4\n",
    "    \n",
    "    def Eq6(T2,T3): \n",
    "        return T2 - T3\n",
    "    \n",
    "    def Eq7(T1, T2, q1, q_s):\n",
    "        return Cp*T1 + L*q1_s - (Cp*T2+L*q2_s + g*Z_a)\n",
    "    \n",
    "    return (Eq2, Eq3, Eq4, Eq5, Eq6, Eq7)\n",
    "\n",
    "T1, T2, T3, T4, Fa, Fc = fsolve(equations, (250,250,200,200,200,20))\n",
    "\n",
    "print (T1, T2, T3, T4, Fa, Fc)"
   ]
  },
  {
   "cell_type": "code",
   "execution_count": 7,
   "metadata": {},
   "outputs": [
    {
     "data": {
      "text/plain": [
       "2.902118800390509"
      ]
     },
     "execution_count": 7,
     "metadata": {},
     "output_type": "execute_result"
    }
   ],
   "source": [
    "math.exp(.6)+(1.8*.6)"
   ]
  },
  {
   "cell_type": "code",
   "execution_count": 6,
   "metadata": {},
   "outputs": [
    {
     "name": "stdout",
     "output_type": "stream",
     "text": [
      "2603.879773095794\n"
     ]
    }
   ],
   "source": [
    "import numpy as np\n",
    "\n",
    "po = 1010\n",
    "p = 600 \n",
    "h = 5000\n",
    "\n",
    "z = np.log(po/p)*h\n",
    "print(z)"
   ]
  },
  {
   "cell_type": "code",
   "execution_count": null,
   "metadata": {},
   "outputs": [],
   "source": []
  }
 ],
 "metadata": {
  "kernelspec": {
   "display_name": "Python 3",
   "language": "python",
   "name": "python3"
  },
  "language_info": {
   "codemirror_mode": {
    "name": "ipython",
    "version": 3
   },
   "file_extension": ".py",
   "mimetype": "text/x-python",
   "name": "python",
   "nbconvert_exporter": "python",
   "pygments_lexer": "ipython3",
   "version": "3.7.6"
  }
 },
 "nbformat": 4,
 "nbformat_minor": 4
}
