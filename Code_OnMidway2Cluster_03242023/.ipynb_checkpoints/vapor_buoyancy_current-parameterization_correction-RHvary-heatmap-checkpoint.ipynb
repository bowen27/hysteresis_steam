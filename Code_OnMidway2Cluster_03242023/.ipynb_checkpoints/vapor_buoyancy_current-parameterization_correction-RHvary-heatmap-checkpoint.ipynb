{
 "cells": [
  {
   "cell_type": "code",
   "execution_count": 4,
   "metadata": {},
   "outputs": [],
   "source": [
    "from scipy.optimize import fsolve\n",
    "import math \n",
    "import numpy as np\n",
    "import matplotlib.pyplot as plt\n",
    "import matplotlib.colors\n",
    "from matplotlib.colorbar import ColorbarBase\n",
    "\n",
    "\n",
    "''' This python notebook includes Virtual temperature correction for the MSE equations (Eq7 and Eq6). It also uses the fc minimum\n",
    "function instead of defining a specific value.'''\n",
    "\n",
    "def universal_func(So=2000, Fo=0, mm_dry = 0.028, assumption = 'WTG', p_guess=(250,250,200,200,200,20), RH_1 = 0.9, RH_2 = 0.8, RH_3 = 0.3):\n",
    "    g = 13.7 #m/s^2 #gravity\n",
    "    Pc = 6e4\n",
    "    Po = 1.01e5\n",
    "    R_star = 8.3145\n",
    "    k3 = 0.08 # relates the strength of convection to the cloud fraction\n",
    "    #fc = 0\n",
    "    def equations(p): \n",
    "        T1, T2, T3, T4, Fa, Fc = p \n",
    "\n",
    "        ### Constants\n",
    "        es0 = 611.2\n",
    "        M = 0.018\n",
    "        To = 273.15\n",
    "        mass_ratio = M/mm_dry\n",
    "\n",
    "        sigma = 5.67e-8 #W /m^2 K^4  Stefan Boltzmann Constant\n",
    "        \n",
    "        H = ((R_star/mm_dry)*T2)/g #scale height\n",
    "        \n",
    "        Tc = 230 #Cloud emission temp\n",
    "        Z_a = np.log(Po/Pc)*H #convection height\n",
    "        Cp = 1005.7 #J/kgK #heat capacity\n",
    "        L = 2.501e6 # J/kg #latent heat of vaporization\n",
    "\n",
    "               \n",
    "        es_1 = es0*pow(np.e, L/(R_star/M)*(1/To - 1/T1))\n",
    "        ws_1 = mass_ratio*es_1/(Po - es_1) #saturated mixing ratio\n",
    "        w_1 = RH_1 * ws_1\n",
    "        q1 = w_1/(1+w_1)\n",
    "        q1_s = ws_1/(1+ws_1)\n",
    "\n",
    "        es_2 = es0*pow(np.e, L/(R_star/M)*(1/To - 1/T2))\n",
    "        ws_2 = mass_ratio*es_2/(Pc - es_2) #saturated mixing ratio\n",
    "        w_2 = RH_2 * ws_2\n",
    "        q2 = w_2/(1+w_2)\n",
    "        q2_s = ws_2/(1+ws_2)\n",
    "        \n",
    "        es_3 = es0*pow(np.e, L/(R_star/M)*(1/To - 1/T3))\n",
    "        ws_3 = mass_ratio*es_3/(Pc - es_3) #saturated mixing ratio\n",
    "        w_3 = RH_3 * ws_3\n",
    "        q3 = w_3/(1+w_3)\n",
    "\n",
    "        #So = 2000 # W/m^2 Solar insolation\n",
    "        #Fo' = 0 # Ocean heat transport\n",
    "\n",
    "        \n",
    "        k1 = 0.2 # Fraction of heat transport to the nightside deposited in the boundary layer\n",
    "        k2 = 1000 # Relates water vapor to the infrared opacity \n",
    "        #k3 = 0.08 # relates the strength of convection to the cloud fraction\n",
    "        Fd = k1*Fa\n",
    "        \n",
    "        fc = k3*np.log(Fc+1.0)\n",
    "        \n",
    "        alpha_p = 0.09+fc - 0.09*fc # planetary albedo\n",
    "        \n",
    "        def Tv(T,mass_ratio,w):\n",
    "            Tv = T*((1 + (w/mass_ratio))/(1+w)) # w is the water vapor mixing ratio\n",
    "            return Tv\n",
    "\n",
    "        epsilon_2 = 1 - np.exp(-k2*q2) #emissivity\n",
    "        epsilon_3 = 1 - np.exp(-k2*q3)\n",
    "\n",
    "        Eq2 = (1/2)*So*(1-alpha_p)-Fc - Fo + (1-fc)*epsilon_2*sigma*T2**4 + fc*sigma*Tc**4 - sigma*T1**4\n",
    "\n",
    "        Eq3 = Fc - Fa + (1-fc)*epsilon_2*sigma*T1**4 + fc*sigma*T1**4 - 2*(1-fc)*epsilon_2*sigma*T2**4 - 2*fc*sigma*Tc**4\n",
    "\n",
    "        Eq4 = Fa - Fd + epsilon_3*sigma*T4**4 - 2*epsilon_3*sigma*T3**4\n",
    "\n",
    "        Eq5 = Fo + Fd + epsilon_3*sigma*T3**4 - sigma*T4**4\n",
    "        \n",
    "        Eq6_WTG = T2 - T3\n",
    "\n",
    "        Eq6_WBG = Tv(T2,mass_ratio,(q2/(1-q2))) - Tv(T3,mass_ratio,(q3/(1-q3)))\n",
    "\n",
    "        Eq7_WTG = Cp*T1 + L*q1_s - (Cp*T2+L*q2_s + g*Z_a)\n",
    "        Eq7_WBG = Cp*Tv(T1,mass_ratio,(q1/(1-q1))) + L*q1_s - (Cp*Tv(T2,mass_ratio,(q2/(1-q2)))+L*q2_s + g*Z_a)\n",
    "        \n",
    "        OLR_day = fc*sigma*Tc**4 +(1 - epsilon_2)*(1-fc)*sigma*T1**4 + (1-fc)*epsilon_2*sigma*T2**4\n",
    "        OLR_night = (1 - epsilon_3)*sigma*T4**4 + epsilon_3*sigma*T3**4\n",
    "        \n",
    "        if assumption == 'WTG': \n",
    "            Eq6 = Eq6_WTG\n",
    "            Eq7 = Eq7_WTG\n",
    "        elif assumption == 'WBG':\n",
    "            Eq6  = Eq6_WBG\n",
    "            Eq7 = Eq7_WBG\n",
    "        if index==0:\n",
    "            return (Eq2, Eq3, Eq4, Eq5, Eq6, Eq7)\n",
    "        if index==1:\n",
    "            return(q1,q2,q3,alpha_p,epsilon_2,epsilon_3,OLR_day, OLR_night)\n",
    "        \n",
    "    index=0\n",
    "    T1, T2, T3, T4, Fa, Fc = fsolve(equations,p_guess)       \n",
    "    #fc_2 = fc\n",
    "    fc_2 = k3*np.log(Fc+1.0)\n",
    "    if fc_2 >=1:\n",
    "        print('cloud fraction: ',fc_2)\n",
    "    index=1\n",
    "    q1,q2,q3,alpha_p,epsilon_2,epsilon_3, OLR_day, OLR_night = equations((T1, T2, T3, T4, Fa, Fc))   \n",
    "    return (T1, T2, T3, T4, Fa, Fc, fc_2,\n",
    "            q1,q2,q3,alpha_p,epsilon_2,epsilon_3,OLR_day, OLR_night )"
   ]
  },
  {
   "cell_type": "code",
   "execution_count": 6,
   "metadata": {},
   "outputs": [
    {
     "data": {
      "text/plain": [
       "(292.0149690968721,\n",
       " 271.8194397924638,\n",
       " 272.4456193294615,\n",
       " 242.37432558217202,\n",
       " 250.09373868141003,\n",
       " 316.85398361576154,\n",
       " 0.4609273685047412,\n",
       " 0.012716369265550882,\n",
       " 0.004775861956737512,\n",
       " 0.0006278278756534827,\n",
       " 0.5094439053393145,\n",
       " 0.9915691860422605,\n",
       " 0.4662500860480616,\n",
       " 240.46235598230749,\n",
       " 250.09373867041225)"
      ]
     },
     "execution_count": 6,
     "metadata": {},
     "output_type": "execute_result"
    }
   ],
   "source": [
    "#RH = np.linspace(0,1,100)\n",
    "universal_func(assumption='WBG', p_guess = (311.397666555272, 297.48929890880356, 301.9543627737432, 300, 1.0178964527851988e-22, 131.77987239320674), RH_3=0.1)\n"
   ]
  },
  {
   "cell_type": "code",
   "execution_count": 7,
   "metadata": {},
   "outputs": [
    {
     "data": {
      "text/plain": [
       "<Figure size 864x720 with 0 Axes>"
      ]
     },
     "metadata": {},
     "output_type": "display_data"
    }
   ],
   "source": [
    "# calculate matrix for heatmap\n",
    "nrh = 100\n",
    "nso = 100\n",
    "RH3 = np.linspace(0.01,0.81,nrh)\n",
    "so = np.linspace(1000,3000,nso)\n",
    "xlab = 'Stellar Flux' \n",
    "xunit = '(W/$m^2$)'\n",
    "ylab = 'Relative Humidity' \n",
    "yunit = ''\n",
    "\n",
    "\n",
    "\n",
    "fig = plt.figure(figsize = (12,10))\n",
    "for i_assump, (assumption, my_color) in enumerate(zip(['WTG','WBG'], ['r','b'])):\n",
    "    OLR_day_matrix = np.zeros((nrh, nso))\n",
    "    OLR_night_matrix = np.zeros((nrh, nso))\n",
    "\n",
    "    nele = len(RH3)\n",
    "    initial_guess = (250,250,200,200,200,20)\n",
    "    for irh,rh in enumerate(RH3):\n",
    "        #print(idx,s)\n",
    "        for iso,s in enumerate(so):\n",
    "            T1, T2, T3, T4, Fa, Fc,fc, q1,q2,q3,alpha_p,epsilon_2,epsilon_3,OLR_day, OLR_night= universal_func(So = s, RH_3 = rh, assumption  = assumption, p_guess = initial_guess)\n",
    "            OLR_day_matrix[irh, iso] = OLR_day\n",
    "            OLR_night_matrix[irh, iso] = OLR_night\n",
    "            initial_guess = (T1, T2, T3, T4, Fa, Fc)\n",
    "    if i_assump == 0:\n",
    "        OLR_day_WTG = OLR_day_matrix\n",
    "        OLR_night_WTG = OLR_night_matrix\n",
    "    elif i_assump == 1:\n",
    "        OLR_day_WBG = OLR_day_matrix\n",
    "        OLR_night_WBG = OLR_night_matrix\n",
    "\n",
    "    #nele = len(arr_list)\n",
    "    #name_list = ['Fa','Fc',r'$\\alpha_p$',r'$\\epsilon_2$',r'$\\epsilon_3$',r'$f_c$']\n",
    "    #unit_list = [r'($\\frac{W}{m^2}$)',r'($\\frac{W}{m^2}$)','','', '','']\n"
   ]
  },
  {
   "cell_type": "code",
   "execution_count": 8,
   "metadata": {},
   "outputs": [
    {
     "data": {
      "text/plain": [
       "array([[ 0.57313928,  0.65418862,  0.7381622 , ..., 11.92501916,\n",
       "        12.05916361, 12.19383241],\n",
       "       [ 0.34917298,  0.40372981,  0.46041816, ...,  8.37398525,\n",
       "         8.48436071,  8.59567681],\n",
       "       [ 0.21922689,  0.25703177,  0.29731218, ...,  6.70477409,\n",
       "         6.80426048,  6.90495039],\n",
       "       ...,\n",
       "       [ 0.1981938 ,  0.20329845,  0.20778083, ..., -0.21930608,\n",
       "        -0.21815708, -0.21697406],\n",
       "       [ 0.19763994,  0.20277144,  0.20728727, ..., -0.25819951,\n",
       "        -0.25832039, -0.25843151],\n",
       "       [ 0.19708694,  0.20224367,  0.20679178, ..., -0.29704248,\n",
       "        -0.29843011, -0.29983211]])"
      ]
     },
     "execution_count": 8,
     "metadata": {},
     "output_type": "execute_result"
    }
   ],
   "source": [
    "#OLR_day_WBG - OLR_day_WTG\n",
    "\n",
    "OLR_night_WBG - OLR_night_WTG"
   ]
  },
  {
   "cell_type": "code",
   "execution_count": 9,
   "metadata": {},
   "outputs": [
    {
     "data": {
      "image/png": "[encoded data removed]",
      "text/plain": [
       "<Figure size 432x432 with 2 Axes>"
      ]
     },
     "metadata": {
      "needs_background": "light"
     },
     "output_type": "display_data"
    }
   ],
   "source": [
    "### definitely need revision, read Yang and Seidel\n",
    "### assume most OLR change come from night side (no cloud?)\n",
    "fig = plt.figure(figsize = (6,6))\n",
    "\n",
    "### plot heatmap\n",
    "#ax = plt.subplot(1,1,1)\n",
    "\n",
    "matrix = (OLR_day_WBG  - OLR_day_WTG ) #+ OLR_night_WBG  - OLR_night_WTG)\n",
    "vmin, vmax = np.nanmin(matrix), np.nanmax(matrix)\n",
    "levels = np.linspace(vmin, vmax, 7)\n",
    "colors = ['#ffffb2','#fed976','#feb24c','#fd8d3c','#f03b20','#bd0026']\n",
    "cmap, norm = matplotlib.colors.from_levels_and_colors(levels, colors)\n",
    "plt.contourf(so, RH3, matrix,  extend = [0.01,1000,0.81,3000], origin = 'lower', cmap = cmap, norm = norm)\n",
    "\n",
    "\n",
    "cax1 = fig.add_axes([0.94,0.2,0.03,0.6])\n",
    "cb1  = ColorbarBase(cax1,cmap=cmap,orientation='vertical')\n",
    "cb1.set_ticks([0,1.])\n",
    "cb1.set_ticklabels([str(vmin),str((vmax))])\n",
    "cb1.set_label('$\\Delta$OLR (W/$m^2$)',rotation=270)\n",
    "\n",
    "\n",
    "#plt.colorbar()\n",
    "#plt.savefig(\"WTG_WBG_compare_T1-T4.png\")\n",
    "#plt.close()"
   ]
  },
  {
   "cell_type": "code",
   "execution_count": 10,
   "metadata": {},
   "outputs": [
    {
     "data": {
      "image/png": "[encoded data removed]",
      "text/plain": [
       "<Figure size 864x432 with 4 Axes>"
      ]
     },
     "metadata": {
      "needs_background": "light"
     },
     "output_type": "display_data"
    }
   ],
   "source": [
    "### definitely need revision, read Yang and Seidel\n",
    "### assume most OLR change come from night side (no cloud?)\n",
    "fig = plt.figure(figsize = (12,6))\n",
    "\n",
    "### plot heatmap\n",
    "ax = plt.subplot(1,2,1)\n",
    "\n",
    "matrix = (OLR_day_WBG ) #+ OLR_night_WBG  - OLR_night_WTG)\n",
    "vmin, vmax = 220, 315#np.nanmin(matrix), np.nanmax(matrix)\n",
    "levels = np.linspace(vmin, vmax, 7)\n",
    "colors = ['#ffffb2','#fed976','#feb24c','#fd8d3c','#f03b20','#bd0026']\n",
    "cmap, norm = matplotlib.colors.from_levels_and_colors(levels, colors)\n",
    "plt.contourf(so, RH3, matrix,  extend = [0.01,1000,0.81,3000], origin = 'lower', cmap = cmap, norm = norm)\n",
    "\n",
    "\n",
    "cax1 = fig.add_axes([0.13,0.0,0.35,0.03])\n",
    "cb1  = ColorbarBase(cax1,cmap=cmap,orientation='horizontal')\n",
    "cb1.set_ticks([0,1.])\n",
    "cb1.set_ticklabels([str(round(vmin,2)),str(round(vmax,2))])\n",
    "cb1.set_label('OLR daytime (W/m^2)',rotation=0)\n",
    "\n",
    "\n",
    "ax = plt.subplot(1,2,2)\n",
    "\n",
    "matrix = (OLR_night_WBG ) #+ OLR_night_WBG  - OLR_night_WTG)\n",
    "vmin, vmax = np.nanmin(matrix), np.nanmax(matrix)\n",
    "levels = np.linspace(vmin, vmax, 7)\n",
    "colors = ['#ffffb2','#fed976','#feb24c','#fd8d3c','#f03b20','#bd0026']\n",
    "cmap, norm = matplotlib.colors.from_levels_and_colors(levels, colors)\n",
    "plt.contourf(so, RH3, matrix,  extend = [0.01,1000,0.81,3000], origin = 'lower', cmap = cmap, norm = norm)\n",
    "\n",
    "\n",
    "cax1 = fig.add_axes([0.55,0.,0.35,0.03])\n",
    "cb1  = ColorbarBase(cax1,cmap=cmap,orientation='horizontal')\n",
    "cb1.set_ticks([0,1.])\n",
    "cb1.set_ticklabels([str(round(vmin,2)),str(round(vmax,2))])\n",
    "cb1.set_label('OLR nighttime (W/$m^2$)',rotation=0)\n",
    "\n",
    "\n",
    "#plt.colorbar()\n",
    "#plt.savefig(\"WTG_WBG_compare_T1-T4.png\")\n",
    "#plt.close()"
   ]
  },
  {
   "cell_type": "markdown",
   "metadata": {},
   "source": [
    "### Now let's convert to T as x-axis"
   ]
  },
  {
   "cell_type": "code",
   "execution_count": 13,
   "metadata": {},
   "outputs": [
    {
     "data": {
      "text/plain": [
       "<Figure size 864x720 with 0 Axes>"
      ]
     },
     "metadata": {},
     "output_type": "display_data"
    }
   ],
   "source": [
    "# calculate matrix for heatmap\n",
    "nrh = 100\n",
    "nso = 100\n",
    "nt = 100\n",
    "RH3 = np.linspace(0.05,0.8,nrh)\n",
    "so = np.linspace(1000,4000,nso)\n",
    "tmpc = np.linspace(280, 320, nt)\n",
    "xlab = 'Stellar Flux' \n",
    "xunit = '(W/$m^2$)'\n",
    "ylab = 'Relative Humidity' \n",
    "yunit = ''\n",
    "\n",
    "\n",
    "\n",
    "fig = plt.figure(figsize = (12,10))\n",
    "for i_assump, (assumption, my_color) in enumerate(zip(['WTG','WBG'], ['r','b'])):\n",
    "    OLR_day_matrix = np.zeros((nrh, nso))\n",
    "    OLR_night_matrix = np.zeros((nrh, nso))\n",
    "    T1_matrix = np.zeros((nrh, nso))\n",
    "    T4_matrix = np.zeros((nrh, nso))\n",
    "\n",
    "    nele = len(RH3)\n",
    "    initial_guess = (250,250,200,200,200,20)\n",
    "    for irh,rh in enumerate(RH3):\n",
    "        #print(idx,s)\n",
    "        for iso,s in enumerate(so):\n",
    "            T1, T2, T3, T4, Fa, Fc,fc, q1,q2,q3,alpha_p,epsilon_2,epsilon_3,OLR_day, OLR_night= universal_func(So = s, RH_3 = rh, assumption  = assumption, p_guess = initial_guess)\n",
    "            OLR_day_matrix[irh, iso] = OLR_day\n",
    "            OLR_night_matrix[irh, iso] = OLR_night\n",
    "            T1_matrix[irh, iso] = T1\n",
    "            T4_matrix[irh, iso] = T4\n",
    "            initial_guess = (T1, T2, T3, T4, Fa, Fc)\n",
    "    if i_assump == 0:\n",
    "        OLR_day_WTG = OLR_day_matrix\n",
    "        T1_WTG = T1_matrix\n",
    "        T4_WTG = T4_matrix\n",
    "        OLR_night_WTG = OLR_night_matrix\n",
    "    elif i_assump == 1:\n",
    "        OLR_day_WBG = OLR_day_matrix\n",
    "        OLR_night_WBG = OLR_night_matrix\n",
    "        T1_WBG = T1_matrix\n",
    "        T4_WBG = T4_matrix\n",
    "\n",
    "    #nele = len(arr_list)\n",
    "    #name_list = ['Fa','Fc',r'$\\alpha_p$',r'$\\epsilon_2$',r'$\\epsilon_3$',r'$f_c$']\n",
    "    #unit_list = [r'($\\frac{W}{m^2}$)',r'($\\frac{W}{m^2}$)','','', '','']\n"
   ]
  },
  {
   "cell_type": "code",
   "execution_count": 30,
   "metadata": {},
   "outputs": [
    {
     "data": {
      "text/plain": [
       "<Figure size 432x432 with 0 Axes>"
      ]
     },
     "metadata": {},
     "output_type": "display_data"
    },
    {
     "data": {
      "image/png": "[encoded data removed]",
      "text/plain": [
       "<Figure size 864x432 with 4 Axes>"
      ]
     },
     "metadata": {
      "needs_background": "light"
     },
     "output_type": "display_data"
    }
   ],
   "source": [
    "### definitely need revision, read Yang and Seidel\n",
    "### assume most OLR change come from night side (no cloud?)\n",
    "fig = plt.figure(figsize = (6,6))\n",
    "fs = 14\n",
    "\n",
    "#matrix = T1_WTG\n",
    "my_type = 'diff'\n",
    "if my_type == 'diff':\n",
    "    matrix = T1_WBG - T1_WTG\n",
    "elif my_type == 'WBG':\n",
    "    matrix = T1_WBG\n",
    "elif my_type == 'WTG':\n",
    "    matrix = T1_WTG\n",
    "\n",
    "### definitely need revision, read Yang and Seidel\n",
    "### assume most OLR change come from night side (no cloud?)\n",
    "fig = plt.figure(figsize = (12,6))\n",
    "\n",
    "### plot heatmap\n",
    "ax = plt.subplot(1,2,1)\n",
    "\n",
    "vmin, vmax = np.nanmin(matrix), np.nanmax(matrix)\n",
    "levels = np.linspace(vmin, vmax, 7)\n",
    "colors = np.array(['#ffffb2','#fed976','#feb24c','#fd8d3c','#f03b20','#bd0026'])[::-1]\n",
    "cmap, norm = matplotlib.colors.from_levels_and_colors(levels, colors)\n",
    "plt.contourf(so, RH3, matrix, levels = levels, extent = [0.05,1000,0.75,4000], origin = 'lower', cmap = cmap, norm = norm, vmin = vmin, vmax = vmax)\n",
    "plt.xlabel('Stellar Flux (W/$m^2$)', fontsize = fs)\n",
    "plt.ylabel('RH3', fontsize = fs)\n",
    "\n",
    "cax1 = fig.add_axes([0.13,-0.02,0.35,0.03])\n",
    "cb1  = ColorbarBase(cax1,cmap=cmap,orientation='horizontal')\n",
    "cb1.set_ticks([0,1.])\n",
    "cb1.set_ticklabels([str(round(vmin,2)),str(round(vmax,2))])\n",
    "cb1.set_label('$\\Delta$T1 (K)',rotation=0,fontsize = fs-2)\n",
    "\n",
    "\n",
    "ax = plt.subplot(1,2,2)\n",
    "\n",
    "\n",
    "if my_type =='diff':\n",
    "    matrix = T4_WBG -  T4_WTG\n",
    "elif my_type == 'WBG':\n",
    "    matrix = T4_WBG\n",
    "elif my_type == 'WTG':\n",
    "    matrix = T4_WTG\n",
    "\n",
    "vmin, vmax = np.nanmin(matrix), np.nanmax(matrix)\n",
    "levels = np.linspace(vmin, vmax, 7)\n",
    "colors = ['#ffffb2','#fed976','#feb24c','#fd8d3c','#f03b20','#bd0026']\n",
    "cmap, norm = matplotlib.colors.from_levels_and_colors(levels, colors)\n",
    "plt.contourf(so, RH3, matrix, levels = levels, extent = [0.05,1000,0.75,4000], origin = 'lower', cmap = cmap, norm = norm, vmin = vmin, vmax = vmax)\n",
    "plt.xlabel('Stellar Flux (W/$m^2$)', fontsize = fs)\n",
    "\n",
    "cax1 = fig.add_axes([0.55,-0.02,0.35,0.03])\n",
    "cb1  = ColorbarBase(cax1,cmap=cmap,orientation='horizontal')\n",
    "cb1.set_ticks([0,1.])\n",
    "cb1.set_ticklabels([str(round(vmin,2)),str(round(vmax,2))])\n",
    "cb1.set_label('$\\Delta$T4 (K)',rotation=0, fontsize = fs-2)\n",
    "\n",
    "\n",
    "#plt.colorbar()\n",
    "#plt.savefig(\"WTG_WBG_compare_T1-T4.png\")\n",
    "#plt.close()"
   ]
  },
  {
   "cell_type": "code",
   "execution_count": 20,
   "metadata": {},
   "outputs": [
    {
     "data": {
      "text/plain": [
       "(2,)"
      ]
     },
     "execution_count": 20,
     "metadata": {},
     "output_type": "execute_result"
    }
   ],
   "source": [
    "np.shape(np.shape(np.tile(RH3[:, np.newaxis], 100)))"
   ]
  },
  {
   "cell_type": "code",
   "execution_count": 38,
   "metadata": {},
   "outputs": [
    {
     "data": {
      "image/png": "[encoded data removed]",
      "text/plain": [
       "<Figure size 864x432 with 4 Axes>"
      ]
     },
     "metadata": {
      "needs_background": "light"
     },
     "output_type": "display_data"
    }
   ],
   "source": [
    "fig = plt.figure(figsize = (12,6))\n",
    "### plot heatmap\n",
    "#ax = plt.subplot(1,1,1)\n",
    "\n",
    "ax  = plt.subplot(1,2,1)\n",
    "matrix=  (OLR_day_WBG  - OLR_day_WTG)\n",
    "vmin, vmax = np.nanmin(matrix), np.nanmax(matrix)\n",
    "levels = np.linspace(vmin, vmax, 7)\n",
    "\n",
    "colors = np.array(['#ffffb2','#fed976','#feb24c','#fd8d3c','#f03b20','#bd0026'])[::-1]\n",
    "cmap, norm = matplotlib.colors.from_levels_and_colors(levels, colors)\n",
    "plt.contourf( T1_matrix, (np.tile(RH3[:, np.newaxis], 100)),  matrix,  extend = [0.01,280,0.81,320], origin = 'lower', cmap = cmap, norm = norm)\n",
    "plt.xlim(280,320)\n",
    "plt.title('Dayside')\n",
    "plt.xlabel('T1 (K)')\n",
    "plt.ylabel('RH3')\n",
    "cax1 = fig.add_axes([0.13,0.0,0.35,0.03])\n",
    "cb1  = ColorbarBase(cax1,cmap=cmap,orientation='horizontal')\n",
    "cb1.set_ticks([0,1.])\n",
    "cb1.set_ticklabels([str(round(vmin,2)),str(round(vmax,2))])\n",
    "cb1.set_label('$\\Delta$OLR (W/m^2)',rotation=0)\n",
    "\n",
    "\n",
    "ax  = plt.subplot(1,2,2)\n",
    "matrix=  (OLR_night_WBG  - OLR_night_WTG)\n",
    "vmin, vmax = np.nanmin(matrix), np.nanmax(matrix)\n",
    "levels = np.linspace(vmin, vmax, 7)\n",
    "\n",
    "colors = np.array(['#ffffb2','#fed976','#feb24c','#fd8d3c','#f03b20','#bd0026'])#[::-1]\n",
    "cmap, norm = matplotlib.colors.from_levels_and_colors(levels, colors)\n",
    "plt.contourf( T4_matrix, (np.tile(RH3[:, np.newaxis], 100)), matrix,  extend = [0.01,280,0.81,320], origin = 'lower', cmap = cmap, norm = norm)\n",
    "plt.xlim(280,320)\n",
    "plt.title('Nightside')\n",
    "plt.xlabel('T4 (K)')\n",
    "plt.ylabel('RH3')\n",
    "\n",
    "cax1 = fig.add_axes([0.57,0.0,0.35,0.03])\n",
    "cb1  = ColorbarBase(cax1,cmap=cmap,orientation='horizontal')\n",
    "cb1.set_ticks([0,1.])\n",
    "cb1.set_ticklabels([str(round(vmin,2)),str(round(vmax,2))])\n",
    "cb1.set_label('$\\Delta$OLR (W/m^2)',rotation=0)\n",
    "\n",
    "\n"
   ]
  },
  {
   "cell_type": "code",
   "execution_count": 23,
   "metadata": {},
   "outputs": [
    {
     "data": {
      "text/plain": [
       "<matplotlib.contour.QuadContourSet at 0x7f90aa720400>"
      ]
     },
     "execution_count": 23,
     "metadata": {},
     "output_type": "execute_result"
    },
    {
     "data": {
      "image/png": "[encoded data removed]",
      "text/plain": [
       "<Figure size 432x432 with 1 Axes>"
      ]
     },
     "metadata": {
      "needs_background": "light"
     },
     "output_type": "display_data"
    }
   ],
   "source": [
    "fig = plt.figure(figsize = (6,6))\n",
    "### plot heatmap\n",
    "#ax = plt.subplot(1,1,1)\n",
    "\n",
    "matrix=  (OLR_day_WBG  - OLR_day_WTG)\n",
    "vmin, vmax = np.nanmin(matrix), np.nanmax(matrix)\n",
    "levels = np.linspace(vmin, vmax, 7)\n",
    "\n",
    "colors = np.array(['#ffffb2','#fed976','#feb24c','#fd8d3c','#f03b20','#bd0026'])[::-1]\n",
    "cmap, norm = matplotlib.colors.from_levels_and_colors(levels, colors)\n",
    "plt.contourf( T4_matrix, (np.tile(RH3[:, np.newaxis], 100)),  (OLR_night_WBG  - OLR_night_WTG),  extend = [0.01,1000,0.81,3000], origin = 'lower')\n",
    "plt.xlim(280,320)\n",
    "plt.title('Nightside')\n",
    "cax1 = fig.add_axes([0.94,0.2,0.03,0.6])\n",
    "cb1  = ColorbarBase(cax1,cmap=cmap,orientation='vertical')\n",
    "cb1.set_ticks([0,1.])\n",
    "cb1.set_ticklabels([str(round(vmin,2)),str(round(vmax,2))])\n",
    "cb1.set_label('$T4$ (K)',rotation=270)\n",
    "\n",
    "\n"
   ]
  },
  {
   "cell_type": "code",
   "execution_count": 22,
   "metadata": {},
   "outputs": [
    {
     "data": {
      "text/plain": [
       "<matplotlib.contour.QuadContourSet at 0x7f8ead2b6bb0>"
      ]
     },
     "execution_count": 22,
     "metadata": {},
     "output_type": "execute_result"
    },
    {
     "data": {
      "image/png": "[encoded data removed]",
      "text/plain": [
       "<Figure size 432x432 with 1 Axes>"
      ]
     },
     "metadata": {
      "needs_background": "light"
     },
     "output_type": "display_data"
    }
   ],
   "source": [
    "fig = plt.figure(figsize = (6,6))\n",
    "### plot heatmap\n",
    "#ax = plt.subplot(1,1,1)\n",
    "\n",
    "plt.contourf(so, RH3, 0.5*(OLR_day_WBG  - OLR_day_WTG + OLR_night_WBG  - OLR_night_WTG),  extend = [0.01,1000,0.81,3000], origin = 'lower')\n",
    "#plt.colorbar()\n",
    "#cbar.set_clim( vmin, vmax )\n",
    "#plt.colorbar()\n",
    "#plt.savefig(\"WTG_WBG_compare_T1-T4.png\")\n",
    "#plt.close()"
   ]
  },
  {
   "cell_type": "code",
   "execution_count": 15,
   "metadata": {
    "scrolled": true
   },
   "outputs": [
    {
     "data": {
      "image/png": "[encoded data removed]",
      "text/plain": [
       "<Figure size 864x720 with 2 Axes>"
      ]
     },
     "execution_count": 15,
     "metadata": {},
     "output_type": "execute_result"
    }
   ],
   "source": [
    "def plot_heatmap(): \n",
    "    \n",
    "    # calculate matrix for heatmap\n",
    "    nrh = 100\n",
    "    nso = 100\n",
    "    RH3 = np.linspace(0.1,0.8,nrh)\n",
    "    so = np.linspace(1000,3000,nso)\n",
    "    xlab = 'Stellar Flux' \n",
    "    xunit = '(W/$m^2$)'\n",
    "    ylab = 'Relative Humidity' \n",
    "    yunit = ''\n",
    "\n",
    "    \n",
    "    \n",
    "    fig = plt.figure(figsize = (12,10))\n",
    "    for i_assump, (assumption, my_color) in enumerate(zip(['WTG','WBG'], ['r','b'])):\n",
    "        OLR_day_matrix = np.zeros((nrh, nso))\n",
    "        OLR_night_matrix = np.zeros((nrh, nso))\n",
    "\n",
    "        nele = len(RH3)\n",
    "        initial_guess = (250,250,200,200,200,20)\n",
    "        for irh,rh in enumerate(RH3):\n",
    "            #print(idx,s)\n",
    "            for iso,s in enumerate(so):\n",
    "                T1, T2, T3, T4, Fa, Fc,fc, q1,q2,q3,alpha_p,epsilon_2,epsilon_3,OLR_day, OLR_night= universal_func(So = s, RH_3 = rh, assumption  = assumption, p_guess = initial_guess)\n",
    "                OLR_day_matrix[irh, iso] = OLR_day\n",
    "                OLR_night_matrix[irh, iso] = OLR_night\n",
    "                initial_guess = (T1, T2, T3, T4, Fa, Fc)\n",
    "        if i_assump == 0:\n",
    "            OLR_day_WTG = OLR_day_matrix\n",
    "            OLR_night_WTG = OLR_night_matrix\n",
    "        elif i_assump == 1:\n",
    "            OLR_day_WBG = OLR_day_matrix\n",
    "            OLR_night_WBG = OLR_night_matrix\n",
    "                \n",
    "        #nele = len(arr_list)\n",
    "        #name_list = ['Fa','Fc',r'$\\alpha_p$',r'$\\epsilon_2$',r'$\\epsilon_3$',r'$f_c$']\n",
    "        #unit_list = [r'($\\frac{W}{m^2}$)',r'($\\frac{W}{m^2}$)','','', '','']\n",
    "        \n",
    "    ### plot heatmap\n",
    "    ax = plt.subplot(1,2,1)\n",
    "    ax.set_title('Day')\n",
    "    ax.contourf(so, RH3, OLR_day_WBG  - OLR_day_WTG,  extend = [0.1,1000,0.8,3000], origin = 'lower')\n",
    "    ax = plt.subplot(1,2,2)\n",
    "    ax.set_title('Night')\n",
    "    ax.contourf(so, RH3,  OLR_night_WBG  - OLR_night_WTG,  extend = [0.1,1000,0.8,3000], origin = 'lower')\n",
    "        \n",
    "        \n",
    "    #plt.savefig(\"WTG_WBG_compare_T1-T4.png\")\n",
    "    plt.close()\n",
    "\n",
    "    return fig\n",
    "plot_heatmap()"
   ]
  },
  {
   "cell_type": "code",
   "execution_count": null,
   "metadata": {},
   "outputs": [],
   "source": []
  },
  {
   "cell_type": "code",
   "execution_count": null,
   "metadata": {},
   "outputs": [],
   "source": []
  },
  {
   "cell_type": "code",
   "execution_count": null,
   "metadata": {},
   "outputs": [],
   "source": []
  },
  {
   "cell_type": "code",
   "execution_count": null,
   "metadata": {},
   "outputs": [],
   "source": []
  }
 ],
 "metadata": {
  "kernelspec": {
   "display_name": "conda_env",
   "language": "python",
   "name": "conda_env"
  },
  "language_info": {
   "codemirror_mode": {
    "name": "ipython",
    "version": 3
   },
   "file_extension": ".py",
   "mimetype": "text/x-python",
   "name": "python",
   "nbconvert_exporter": "python",
   "pygments_lexer": "ipython3",
   "version": "3.8.6"
  }
 },
 "nbformat": 4,
 "nbformat_minor": 4
}
