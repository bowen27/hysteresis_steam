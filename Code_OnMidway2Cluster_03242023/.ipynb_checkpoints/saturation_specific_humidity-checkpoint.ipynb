{
 "cells": [
  {
   "cell_type": "code",
   "execution_count": 16,
   "metadata": {},
   "outputs": [],
   "source": [
    "import math \n",
    "import numpy as np\n",
    "import matplotlib.pyplot as plt\n",
    "import metpy.constants as constants\n",
    "\n",
    "def es(T, es0 = 611.2, Lv = 2.5e6, R_star = 8.3145, M = 0.018, To = 273.15): \n",
    "    '''\n",
    "    es0 is the \n",
    "    \n",
    "    \n",
    "    All parameters default to Earth case, where the condensable species considered is water vapor. Output has units of Pa. \n",
    "    '''\n",
    "    return es0*pow(np.e, Lv/(R_star/M)*(1/To - 1/T))"
   ]
  },
  {
   "cell_type": "markdown",
   "metadata": {},
   "source": [
    "### Defining the constants \n",
    "\n",
    "The constants includes $R^*$, which is the universal gas constant = 8.3145 J/mol. Divide it by the molecular mass of the condensable species considered. For Earth, we consider water vapor Rv = R*/Mv. \n",
    "\n",
    "Just refer to metpy for Earth values: \n",
    "https://unidata.github.io/MetPy/latest/api/generated/metpy.constants.html\n",
    "\n",
    "And Bolton 1980 for more accurate numbers: \n",
    "https://journals.ametsoc.org/view/journals/mwre/108/7/1520-0493_1980_108_1046_tcoept_2_0_co_2.xml?tab_body=pdf\n"
   ]
  },
  {
   "cell_type": "code",
   "execution_count": 8,
   "metadata": {},
   "outputs": [
    {
     "data": {
      "text/plain": [
       "461.91666666666674"
      ]
     },
     "execution_count": 8,
     "metadata": {},
     "output_type": "execute_result"
    }
   ],
   "source": [
    "R_star = 8.3145\n",
    "M = 0.018\n",
    "Rv = R_star/M\n",
    "Rv"
   ]
  },
  {
   "cell_type": "markdown",
   "metadata": {},
   "source": [
    "As for water vapor, the latent heat of vaporization Lv is 2.5*10^6 J/kg/K, the triple phase point is $T_o$ = 273.15K. Reference vapor pressure $es_0$ = 6.112 hPa. "
   ]
  },
  {
   "cell_type": "code",
   "execution_count": 9,
   "metadata": {},
   "outputs": [],
   "source": [
    "es1 = es(T = 300)\n",
    "es1"
   ]
  },
  {
   "cell_type": "code",
   "execution_count": 31,
   "metadata": {},
   "outputs": [
    {
     "data": {
      "text/plain": [
       "[<matplotlib.lines.Line2D at 0x7feaf985a790>]"
      ]
     },
     "execution_count": 31,
     "metadata": {},
     "output_type": "execute_result"
    },
    {
     "data": {
      "image/png": "[encoded data removed]",
      "text/plain": [
       "<Figure size 432x288 with 1 Axes>"
      ]
     },
     "metadata": {
      "needs_background": "light"
     },
     "output_type": "display_data"
    }
   ],
   "source": [
    "es_list = []\n",
    "T_list = range(260, 300, 1)\n",
    "for T in T_list:\n",
    "    es_list.append(es(T))\n",
    "plt.plot(T_list, es_list)"
   ]
  },
  {
   "cell_type": "markdown",
   "metadata": {},
   "source": [
    "### Saturation mixing ratio from saturation vapor pressure\n",
    "\n",
    "The saturation mixing ratio can be written as a function of saturaiton vapor pressure and total pressure: \n",
    "\n",
    "$w = \\epsilon \\frac{e_s}{p - e_s}$\n",
    "\n",
    "https://unidata.github.io/MetPy/latest/api/generated/metpy.calc.saturation_mixing_ratio.html"
   ]
  },
  {
   "cell_type": "code",
   "execution_count": 22,
   "metadata": {},
   "outputs": [
    {
     "data": {
      "text/plain": [
       "0.6219800858985514"
      ]
     },
     "execution_count": 22,
     "metadata": {},
     "output_type": "execute_result"
    }
   ],
   "source": [
    "epsilon = constants.molecular_weight_ratio.magnitude\n",
    "epsilon\n"
   ]
  },
  {
   "cell_type": "code",
   "execution_count": 32,
   "metadata": {},
   "outputs": [
    {
     "data": {
      "text/plain": [
       "0.024012251214252926"
      ]
     },
     "execution_count": 32,
     "metadata": {},
     "output_type": "execute_result"
    }
   ],
   "source": [
    "def sat_mixing_ratio(p, es, mass_ratio = 0.622):\n",
    "    '''\n",
    "    p is the total pressure (Pa)\n",
    "    es is the saturation vapor pressure (Pa)\n",
    "    epsilon is the mass ratio (default to Earth value)\n",
    "    '''\n",
    "    return mass_ratio*es/(p - es)\n",
    "w = sat_mixing_ratio(100000, es1)\n",
    "w"
   ]
  },
  {
   "cell_type": "markdown",
   "metadata": {},
   "source": [
    "### Specific humidity from mixing ratio\n",
    "\n",
    "The specific humidity and mixing ratio follow the relationship below by definition.\n",
    "\n",
    "$ q = \\frac{w}{1+w}$\n"
   ]
  },
  {
   "cell_type": "code",
   "execution_count": 28,
   "metadata": {},
   "outputs": [
    {
     "data": {
      "text/plain": [
       "0.023449183528595176"
      ]
     },
     "execution_count": 28,
     "metadata": {},
     "output_type": "execute_result"
    }
   ],
   "source": [
    "q = w/(1+w)\n",
    "q"
   ]
  },
  {
   "cell_type": "markdown",
   "metadata": {},
   "source": [
    "The output is saturation specific humidity. "
   ]
  },
  {
   "cell_type": "code",
   "execution_count": 36,
   "metadata": {},
   "outputs": [],
   "source": [
    "def sat_specific_humdity(T, p, es0 = 611.2, Lv = 2.5e6, R_star = 8.3145, M = 0.018, To = 273.15, mass_ratio = 0.622):\n",
    "    \n",
    "    es = es0*pow(np.e, Lv/(R_star/M)*(1/To - 1/T))\n",
    "    w = mass_ratio*es/(p - es)\n",
    "    return w/(1+w)"
   ]
  },
  {
   "cell_type": "code",
   "execution_count": 37,
   "metadata": {},
   "outputs": [
    {
     "data": {
      "text/plain": [
       "0.022703225114316047"
      ]
     },
     "execution_count": 37,
     "metadata": {},
     "output_type": "execute_result"
    }
   ],
   "source": [
    "sat_specific_humdity(300, 100000)"
   ]
  },
  {
   "cell_type": "code",
   "execution_count": null,
   "metadata": {},
   "outputs": [],
   "source": []
  }
 ],
 "metadata": {
  "kernelspec": {
   "display_name": "conda_env",
   "language": "python",
   "name": "conda_env"
  },
  "language_info": {
   "codemirror_mode": {
    "name": "ipython",
    "version": 3
   },
   "file_extension": ".py",
   "mimetype": "text/x-python",
   "name": "python",
   "nbconvert_exporter": "python",
   "pygments_lexer": "ipython3",
   "version": "3.8.6"
  }
 },
 "nbformat": 4,
 "nbformat_minor": 4
}
