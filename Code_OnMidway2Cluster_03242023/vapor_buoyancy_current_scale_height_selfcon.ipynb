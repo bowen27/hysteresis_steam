{
 "cells": [
  {
   "cell_type": "code",
   "execution_count": 2,
   "metadata": {},
   "outputs": [],
   "source": [
    "from scipy.optimize import fsolve\n",
    "import math \n",
    "import numpy as np\n",
    "\n",
    "\n",
    "def universal_func(So=2000, Fo=0, mm_dry = 0.028):\n",
    "    g = 13.7 #m/s^2 #gravity\n",
    "    Pc = 6e4\n",
    "    Po = 1.01e5\n",
    "    R_star = 8.3145\n",
    "    def equations(p): \n",
    "        T1, T2, T3, T4, Fa, Fc = p \n",
    "\n",
    "        ### Constants\n",
    "        es0 = 611.2\n",
    "        \n",
    "        M = 0.018\n",
    "        To = 273.15\n",
    "        mass_ratio = M/mm_dry\n",
    "\n",
    "        sigma = 5.67e-8 #W /m^2 K^4  Stefan Boltzmann Constant\n",
    "        po = 1010 #surface pressure\n",
    "        p = 600 #pressure of free-troposphere\n",
    "        \n",
    "        H = ((R_star/mm_dry)*T2)/g #scale height\n",
    "        \n",
    "        Tc = 230 #Cloud emission temp\n",
    "        Z_a = np.log(po/p)*H #convection height\n",
    "        Cp = 1005.7 #J/kgK #heat capacity\n",
    "        L = 2.501e6 # J/kg #latent heat of vaporization\n",
    "        \n",
    "\n",
    "        es_1 = es0*pow(np.e, L/(R_star/M)*(1/To - 1/T1))\n",
    "        w_1 = mass_ratio*es_1/(Po - es_1) #saturated mixing ratio\n",
    "        q1_s = w_1/(1+w_1)\n",
    "\n",
    "        es_2 = es0*pow(np.e, L/(R_star/M)*(1/To - 1/T2))\n",
    "        w_2 = mass_ratio*es_2/(Pc - es_2) #saturated mixing ratio\n",
    "        q2_s = w_2/(1+w_2)\n",
    "\n",
    "        RH_1 = 0.9 #Relative Humidity\n",
    "        RH_2 = 0.8 \n",
    "        RH_3 = 0.3\n",
    "        q1 = RH_1 * q1_s\n",
    "        q2 = RH_2 * q2_s #specific humidity\n",
    "        q3 = RH_3 * q2_s #specific humidity\n",
    "\n",
    "        #So = 2000 # W/m^2 Solar insolation\n",
    "        #Fo' = 0 # Ocean heat transport\n",
    "\n",
    "        #fc = 1.0 # cloud fraction\n",
    "        \n",
    "        k1 = 0.2 # Fraction of heat transport to the nightside deposited in the boundary layer\n",
    "        k2 = 1000 # Relates water vapor to the infrared opacity \n",
    "        k3 = 0.08 # relates the strength of convection to the cloud fraction\n",
    "        Fd = k1*Fa\n",
    "\n",
    "        fc = k3*np.log(Fc+1.0)\n",
    "        alpha_p = 0.09+fc - 0.09*fc # planetary albedo\n",
    "\n",
    "        epsilon_2 = 1 - np.exp(-k2*q2) #emissivity\n",
    "        epsilon_3 = 1 - np.exp(-k2*q3)\n",
    "\n",
    "        Eq2 = (1/2)*So*(1-alpha_p)-Fc - Fo + (1-fc)*epsilon_2*sigma*T2**4 + fc*sigma*Tc**4 - sigma*T1**4\n",
    "\n",
    "        Eq3 = Fc - Fa + (1-fc)*epsilon_2*sigma*T1**4 + fc*sigma*T1**4 - 2*(1-fc)*epsilon_2*sigma*T2**4 - 2*fc*sigma*Tc**4\n",
    "\n",
    "        Eq4 = Fa - Fd + epsilon_3*sigma*T4**4 - 2*epsilon_3*sigma*T3**4\n",
    "\n",
    "        Eq5 = Fo + Fd + epsilon_3*sigma*T3**4 - sigma*T4**4\n",
    "\n",
    "        Eq6 = T2 - T3\n",
    "\n",
    "        Eq7 = Cp*T1 + L*q1_s - (Cp*T2+L*q2_s + g*Z_a)\n",
    "\n",
    "        if index==0:\n",
    "            return (Eq2, Eq3, Eq4, Eq5, Eq6, Eq7)\n",
    "        if index==1:\n",
    "            return(q1,q2,q3,alpha_p,epsilon_2,epsilon_3)\n",
    "        \"\"\"\n",
    "        # Old version, to be deleted\n",
    "        def Eq2(So,alpha_p,Fc,Fo,epsilon_2,sigma,fc,Tc):     \n",
    "            return (1/2)*So*(1-alpha_p)-Fc - Fo + (1-fc)*epsilon_2*sigma*T2**4 + fc*sigma*Tc**4 - sigma*T1**4\n",
    "\n",
    "        def Eq3(Fc,Fa,epsilon_2,sigma,T1,T2,Tc):\n",
    "            return Fc - Fa + (1-fc)*epsilon_2*sigma*T1**4 + fc*sigma*T1**4 - 2*(1-fc)*epsilon_2*sigma*T2**4 - 2*fc*sigma*Tc**4\n",
    "\n",
    "        def Eq4(Fa,Fd,T3,sigma,T4): \n",
    "            return Fa - Fd + epsilon_3*sigma*T4**4 - 2*epsilon_3*sigma*T3**4\n",
    "\n",
    "        def Eq5(Fo,Fd,epsilon_3,sigma, T3, T4):  \n",
    "            return Fo + Fd + epsilon_3*sigma*T3**4 - sigma*T4**4\n",
    "\n",
    "        def Eq6(T2,T3): \n",
    "            return T2 - T3\n",
    "\n",
    "        def Eq7(T1, T2):\n",
    "            return Cp*T1 + L*q1_s - (Cp*T2+L*q2_s + g*Z_a)\n",
    "\n",
    "        return (Eq2(So,alpha_p,Fc,Fo,epsilon_2,sigma,fc,Tc), Eq3(Fc,Fa,epsilon_2,sigma,T1,T2,Tc), \n",
    "                Eq4(Fa,Fd,T3,sigma,T4), Eq5(Fo,Fd,epsilon_3,sigma, T3, T4),\n",
    "                Eq6(T2,T3), Eq7(T1,T2))\n",
    "        \"\"\"\n",
    "    index=0\n",
    "    T1, T2, T3, T4, Fa, Fc = fsolve(equations, (250,250,200,200,200,20))        \n",
    "    fc_2 = 0.08*np.log(Fc+1)\n",
    "    index=1\n",
    "    q1,q2,q3,alpha_p,epsilon_2,epsilon_3 = equations((T1, T2, T3, T4, Fa, Fc)) \n",
    "    H = ((R_star/mm_dry)*T2)/g #scale height\n",
    "    print('Scale Height: ',H,' m')\n",
    "    return (T1, T2, T3, T4, Fa, Fc, fc_2,\n",
    "            q1,q2,q3,alpha_p,epsilon_2,epsilon_3)"
   ]
  },
  {
   "cell_type": "code",
   "execution_count": 3,
   "metadata": {},
   "outputs": [
    {
     "name": "stdout",
     "output_type": "stream",
     "text": [
      "Scale Height:  5248.137384325075  m\n",
      "Scale Height:  5259.713164671481  m\n",
      "Scale Height:  5270.951066412278  m\n",
      "Scale Height:  5281.872572935599  m\n",
      "Scale Height:  5292.4975384868185  m\n",
      "Scale Height:  5302.844338465616  m\n",
      "Scale Height:  5312.929999556196  m\n",
      "Scale Height:  5322.770322191625  m\n",
      "Scale Height:  5332.379989928485  m\n",
      "Scale Height:  5341.772669725177  m\n",
      "Scale Height:  5350.961093133452  m\n",
      "Scale Height:  5359.957140845228  m\n",
      "Scale Height:  5368.771914021882  m\n",
      "Scale Height:  5377.415800288388  m\n",
      "Scale Height:  5385.898531586126  m\n",
      "Scale Height:  5394.229234841495  m\n",
      "Scale Height:  5402.416512643429  m\n",
      "Scale Height:  5410.468427111444  m\n",
      "Scale Height:  5418.392583087609  m\n",
      "Scale Height:  5426.196178511875  m\n",
      "Scale Height:  5433.886001879014  m\n",
      "Scale Height:  5441.468486104378  m\n",
      "Scale Height:  5448.949727612152  m\n",
      "Scale Height:  5456.335518740745  m\n",
      "Scale Height:  5463.631377634452  m\n",
      "Scale Height:  5470.842547150964  m\n",
      "Scale Height:  5477.974045794267  m\n",
      "Scale Height:  5485.030669547964  m\n",
      "Scale Height:  5492.017009628672  m\n",
      "Scale Height:  5498.937474546945  m\n",
      "Scale Height:  5505.796297557273  m\n",
      "Scale Height:  5512.597610535684  m\n",
      "Scale Height:  5519.345221812637  m\n",
      "Scale Height:  5526.043070798904  m\n",
      "Scale Height:  5532.694801079675  m\n",
      "Scale Height:  5539.304014331306  m\n",
      "Scale Height:  5545.874181255062  m\n",
      "Scale Height:  5552.408708581915  m\n",
      "Scale Height:  5558.91091939585  m\n",
      "Scale Height:  5565.384067971816  m\n",
      "Scale Height:  5571.831356255914  m\n",
      "Scale Height:  5578.255900402891  m\n",
      "Scale Height:  5584.660832575888  m\n",
      "Scale Height:  5591.049172725562  m\n",
      "Scale Height:  5597.423983473182  m\n",
      "Scale Height:  5603.788260604511  m\n",
      "Scale Height:  5610.1449975661935  m\n",
      "Scale Height:  5616.497167042231  m\n",
      "Scale Height:  5622.847753543763  m\n",
      "Scale Height:  5629.199738840657  m\n",
      "Scale Height:  5635.556114151313  m\n",
      "Scale Height:  5641.919886599856  m\n",
      "Scale Height:  5648.294088386634  m\n",
      "Scale Height:  5654.681766544208  m\n",
      "Scale Height:  5661.086032782285  m\n",
      "Scale Height:  5667.509975870027  m\n",
      "Scale Height:  5673.956805344059  m\n",
      "Scale Height:  5680.4297319984  m\n",
      "Scale Height:  5686.932031871634  m\n",
      "Scale Height:  5693.467039882458  m\n",
      "Scale Height:  5700.038156488922  m\n",
      "Scale Height:  5706.648842605928  m\n",
      "Scale Height:  5713.3026343448355  m\n",
      "Scale Height:  5720.00313248729  m\n",
      "Scale Height:  5726.754017483497  m\n",
      "Scale Height:  5733.559036625986  m\n",
      "Scale Height:  5740.422008372672  m\n",
      "Scale Height:  5747.346817623852  m\n",
      "Scale Height:  5754.337409743396  m\n",
      "Scale Height:  5761.397781634959  m\n",
      "Scale Height:  5768.53197055725  m\n",
      "Scale Height:  5775.744038181639  m\n",
      "Scale Height:  5783.038051207351  m\n",
      "Scale Height:  5790.418056138676  m\n",
      "Scale Height:  5797.888047256641  m\n",
      "Scale Height:  5805.451934142455  m\n",
      "Scale Height:  5813.1134923978125  m\n",
      "Scale Height:  5820.876313157052  m\n",
      "Scale Height:  5828.743742277305  m\n",
      "Scale Height:  5836.7188138560605  m\n",
      "Scale Height:  5844.804167822501  m\n",
      "Scale Height:  5853.001967394417  m\n",
      "Scale Height:  5861.313804681442  m\n",
      "Scale Height:  5869.740603396188  m\n",
      "Scale Height:  5878.282518619733  m\n",
      "Scale Height:  5886.938836721728  m\n",
      "Scale Height:  5895.7078835915145  m\n",
      "Scale Height:  5904.586944710303  m\n",
      "Scale Height:  5913.572201809589  m\n",
      "Scale Height:  5922.658695178703  m\n",
      "Scale Height:  5931.840318078977  m\n",
      "Scale Height:  5941.10984830424  m\n",
      "Scale Height:  5950.459019508039  m\n",
      "Scale Height:  5959.878625846635  m\n",
      "Scale Height:  5969.358683137495  m\n",
      "Scale Height:  5978.888606290847  m\n",
      "Scale Height:  5988.457423975158  m\n",
      "Scale Height:  5998.053999800471  m\n",
      "Scale Height:  6007.667263623157  m\n",
      "Scale Height:  6017.286431396659  m\n"
     ]
    }
   ],
   "source": [
    "so = np.linspace(1000,2500,100)\n",
    "nele = len(so)\n",
    "T1_arr, T2_arr, T3_arr, T4_arr, Fa_arr, Fc_arr, fc_arr = np.zeros(nele), np.zeros(nele), np.zeros(nele), np.zeros(nele), np.zeros(nele), np.zeros(nele), np.zeros(nele)\n",
    "q1_arr,q2_arr,q3_arr,alpha_p_arr,epsilon_2_arr,epsilon_3_arr = np.zeros(nele), np.zeros(nele), np.zeros(nele), np.zeros(nele), np.zeros(nele), np.zeros(nele)\n",
    "\n",
    "for idx,s in enumerate(so):\n",
    "    T1_arr[idx], T2_arr[idx], T3_arr[idx], T4_arr[idx], Fa_arr[idx], Fc_arr[idx], fc_arr[idx], \\\n",
    "    q1_arr[idx],q2_arr[idx],q3_arr[idx],alpha_p_arr[idx],epsilon_2_arr[idx],epsilon_3_arr[idx] = universal_func(So = s)"
   ]
  },
  {
   "cell_type": "code",
   "execution_count": 4,
   "metadata": {},
   "outputs": [
    {
     "name": "stdout",
     "output_type": "stream",
     "text": [
      "Scale Height:  5248.137384325075  m\n"
     ]
    },
    {
     "data": {
      "text/plain": [
       "(271.8374637354997,\n",
       " 242.12947268351652,\n",
       " 242.12947268351652,\n",
       " 163.5141383716033,\n",
       " 62.702693097968655,\n",
       " 82.96457062897235,\n",
       " 0.3544315945314671,\n",
       " 0.003187917215822912,\n",
       " 0.00041348992226353427,\n",
       " 0.00015505872084882534,\n",
       " 0.41253275102363507,\n",
       " 0.33866180086106035,\n",
       " 0.14363511046606525)"
      ]
     },
     "execution_count": 4,
     "metadata": {},
     "output_type": "execute_result"
    }
   ],
   "source": [
    "universal_func(So = 1000)"
   ]
  },
  {
   "cell_type": "code",
   "execution_count": 8,
   "metadata": {},
   "outputs": [
    {
     "data": {
      "image/png": "[encoded data removed]",
      "text/plain": [
       "<Figure size 432x288 with 4 Axes>"
      ]
     },
     "metadata": {},
     "output_type": "display_data"
    }
   ],
   "source": [
    "import matplotlib.pyplot as plt\n",
    "full_arr = [T1_arr, T2_arr, T3_arr, T4_arr]\n",
    "for idx, arr in enumerate(full_arr):\n",
    "    #fig = plt.figure(figsize =(12,6))\n",
    "    plt.style.use('ggplot')\n",
    "    plt.xlabel('Temperature (K)')\n",
    "    plt.ylabel(r'$\\epsilon \\sigma T^4$')\n",
    "    plt.subplot(2,2,idx+1)\n",
    "    plt.scatter(so, arr)\n",
    "    plt.xlim(1000,2400)\n",
    "    plt.ylim(160,320)"
   ]
  },
  {
   "cell_type": "code",
   "execution_count": 6,
   "metadata": {},
   "outputs": [
    {
     "name": "stdout",
     "output_type": "stream",
     "text": [
      "2603.879773095794\n"
     ]
    }
   ],
   "source": [
    "import numpy as np\n",
    "\n",
    "po = 1010\n",
    "p = 600 \n",
    "h = 5000\n",
    "\n",
    "z = np.log(po/p)*h\n",
    "print(z)"
   ]
  },
  {
   "cell_type": "code",
   "execution_count": 7,
   "metadata": {},
   "outputs": [
    {
     "data": {
      "image/png": "[encoded data removed]",
      "text/plain": [
       "<Figure size 432x288 with 1 Axes>"
      ]
     },
     "metadata": {},
     "output_type": "display_data"
    }
   ],
   "source": [
    "import matplotlib.pyplot as plt\n",
    "full_arr = [Fa_arr]\n",
    "for idx, arr in enumerate(full_arr):\n",
    "    plt.subplot(1,1,idx+1)\n",
    "    plt.scatter(so, arr)\n",
    "    plt.xlim(1000,2400)\n",
    "    plt.ylim(50,350)"
   ]
  },
  {
   "cell_type": "code",
   "execution_count": null,
   "metadata": {},
   "outputs": [],
   "source": []
  },
  {
   "cell_type": "code",
   "execution_count": null,
   "metadata": {},
   "outputs": [],
   "source": []
  }
 ],
 "metadata": {
  "kernelspec": {
   "display_name": "Python 3",
   "language": "python",
   "name": "python3"
  },
  "language_info": {
   "codemirror_mode": {
    "name": "ipython",
    "version": 3
   },
   "file_extension": ".py",
   "mimetype": "text/x-python",
   "name": "python",
   "nbconvert_exporter": "python",
   "pygments_lexer": "ipython3",
   "version": "3.7.6"
  }
 },
 "nbformat": 4,
 "nbformat_minor": 4
}
